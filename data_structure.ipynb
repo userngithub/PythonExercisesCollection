{
 "cells": [
  {
   "cell_type": "markdown",
   "id": "b255c40c",
   "metadata": {},
   "source": [
    "# Lists[]"
   ]
  },
  {
   "cell_type": "code",
   "execution_count": 1,
   "id": "4df77575",
   "metadata": {},
   "outputs": [
    {
     "data": {
      "text/plain": [
       "[1, -1, 0.5, 3.1416]"
      ]
     },
     "execution_count": 1,
     "metadata": {},
     "output_type": "execute_result"
    }
   ],
   "source": [
    "real_number = [1, -1, 1/2, 3.1416] \n",
    "\n",
    "real_number"
   ]
  },
  {
   "cell_type": "code",
   "execution_count": 2,
   "id": "39ae3a04",
   "metadata": {},
   "outputs": [
    {
     "data": {
      "text/plain": [
       "[[1, 2],\n",
       " [-1, 0, 1],\n",
       " [-1, 1, -0.5, 0.5],\n",
       " [-1, 1, 0.16666666666666666, 3.1416, 1.0],\n",
       " [1j, 0.5j, (-1+0j)]]"
      ]
     },
     "execution_count": 2,
     "metadata": {},
     "output_type": "execute_result"
    }
   ],
   "source": [
    "set_of_numbers = [[1,2], [-1, 0, 1], [-1, 1, -1/2, 1/2], [-1, 1, 1/6, 3.1416, 2**1/2], [1j, 1j**1/2, 1j*1j]]\n",
    "\n",
    "set_of_numbers"
   ]
  },
  {
   "cell_type": "code",
   "execution_count": 3,
   "id": "29b41b16",
   "metadata": {},
   "outputs": [
    {
     "data": {
      "text/plain": [
       "['CNZQR', 0.01, True]"
      ]
     },
     "execution_count": 3,
     "metadata": {},
     "output_type": "execute_result"
    }
   ],
   "source": [
    "heterogenous = [\"CNZQR\", 0.01, True]\n",
    "\n",
    "heterogenous"
   ]
  },
  {
   "cell_type": "code",
   "execution_count": 4,
   "id": "678e58ed",
   "metadata": {},
   "outputs": [
    {
     "data": {
      "text/plain": [
       "[[1, -1, 0.5, 3.1416],\n",
       " [[1, 2],\n",
       "  [-1, 0, 1],\n",
       "  [-1, 1, -0.5, 0.5],\n",
       "  [-1, 1, 0.16666666666666666, 3.1416, 1.0],\n",
       "  [1j, 0.5j, (-1+0j)]],\n",
       " ['CNZQR', 0.01, True]]"
      ]
     },
     "execution_count": 4,
     "metadata": {},
     "output_type": "execute_result"
    }
   ],
   "source": [
    "set_of_lists = [real_number, set_of_numbers, heterogenous]\n",
    "\n",
    "set_of_lists"
   ]
  },
  {
   "cell_type": "markdown",
   "id": "6bde12dd",
   "metadata": {},
   "source": [
    "### Mutable data"
   ]
  },
  {
   "cell_type": "code",
   "execution_count": 5,
   "id": "b9c3a082",
   "metadata": {},
   "outputs": [
    {
     "data": {
      "text/plain": [
       "([1, 0], True)"
      ]
     },
     "execution_count": 5,
     "metadata": {},
     "output_type": "execute_result"
    }
   ],
   "source": [
    "a, b = 0, 1\n",
    "\n",
    "commutative = [a, b]\n",
    "commutative[:2] = 1, 0\n",
    "\n",
    "c_add = a + b == b + a\n",
    "\n",
    "commutative, c_add\n"
   ]
  },
  {
   "cell_type": "markdown",
   "id": "a66ce717",
   "metadata": {},
   "source": [
    "### Retrieving"
   ]
  },
  {
   "cell_type": "code",
   "execution_count": 6,
   "id": "183f1612",
   "metadata": {},
   "outputs": [
    {
     "data": {
      "text/plain": [
       "(range(0, 10), 0, 9)"
      ]
     },
     "execution_count": 6,
     "metadata": {},
     "output_type": "execute_result"
    }
   ],
   "source": [
    "decimal_number = range(10) # [0, 1, ..., 9]\n",
    "\n",
    "first_element = decimal_number[0] # [0]\n",
    "last_element = decimal_number[-1] # [9]\n",
    "\n",
    "decimal_number, first_element, last_element"
   ]
  },
  {
   "cell_type": "code",
   "execution_count": 7,
   "id": "73c0e2b0",
   "metadata": {},
   "outputs": [
    {
     "data": {
      "text/plain": [
       "(range(-10, 10), -10, 9)"
      ]
     },
     "execution_count": 7,
     "metadata": {},
     "output_type": "execute_result"
    }
   ],
   "source": [
    "integer = range(-10, 10)\n",
    "\n",
    "first_element = integer[0]\n",
    "last_element = integer[-1]\n",
    "\n",
    "integer, first_element, last_element "
   ]
  },
  {
   "cell_type": "markdown",
   "id": "b57d7da5",
   "metadata": {},
   "source": [
    "### Slicing"
   ]
  },
  {
   "cell_type": "code",
   "execution_count": 8,
   "id": "a181a851",
   "metadata": {},
   "outputs": [
    {
     "data": {
      "text/plain": [
       "([512, 256], [128, 64, 16, 8, 4, 2, 1], [16])"
      ]
     },
     "execution_count": 8,
     "metadata": {},
     "output_type": "execute_result"
    }
   ],
   "source": [
    "binary_number = [512, 256, 128, 64, 16, 8, 4, 2, 1]\n",
    "\n",
    "first_two = binary_number[:2]\n",
    "fthree_tt_last = binary_number[2:] # from three to the last element\n",
    "mid_point = binary_number[4:-4] # [16]\n",
    "\n",
    "first_two, fthree_tt_last, mid_point"
   ]
  },
  {
   "cell_type": "markdown",
   "id": "31ad5128",
   "metadata": {},
   "source": [
    "### Boolean"
   ]
  },
  {
   "cell_type": "code",
   "execution_count": 9,
   "id": "997689bd",
   "metadata": {},
   "outputs": [
    {
     "data": {
      "text/plain": [
       "True"
      ]
     },
     "execution_count": 9,
     "metadata": {},
     "output_type": "execute_result"
    }
   ],
   "source": [
    "128 in binary_number"
   ]
  },
  {
   "cell_type": "code",
   "execution_count": 10,
   "id": "556083d2",
   "metadata": {},
   "outputs": [
    {
     "data": {
      "text/plain": [
       "False"
      ]
     },
     "execution_count": 10,
     "metadata": {},
     "output_type": "execute_result"
    }
   ],
   "source": [
    "'7F' in binary_number"
   ]
  },
  {
   "cell_type": "markdown",
   "id": "cf4eb3b5",
   "metadata": {},
   "source": [
    "### Concatenating "
   ]
  },
  {
   "cell_type": "code",
   "execution_count": 11,
   "id": "17c17167",
   "metadata": {},
   "outputs": [
    {
     "data": {
      "text/plain": [
       "[0, 1, 2, 3, 4, 5, 6, 7, 8, 9, 'A', 'B', 'C', 'D', 'E', 'F']"
      ]
     },
     "execution_count": 11,
     "metadata": {},
     "output_type": "execute_result"
    }
   ],
   "source": [
    "import string\n",
    "\n",
    "decimal_number = [0, 1, 2, 3, 4, 5, 6, 7, 8, 9]\n",
    "first_six_letter = string.ascii_uppercase[:6]\n",
    "decimal_number.extend(first_six_letter) # extend()\n",
    "\n",
    "hexadecimal = decimal_number[:] # [:] all elements\n",
    "\n",
    "hexadecimal"
   ]
  },
  {
   "cell_type": "code",
   "execution_count": 12,
   "id": "9a79add0",
   "metadata": {},
   "outputs": [
    {
     "data": {
      "text/plain": [
       "[0, 1, 2, 3, 4, 5, 6, 7, 8, 9, 'ABCDEF']"
      ]
     },
     "execution_count": 12,
     "metadata": {},
     "output_type": "execute_result"
    }
   ],
   "source": [
    "import string\n",
    "\n",
    "decimal_number = [0, 1, 2, 3, 4, 5, 6, 7, 8, 9]\n",
    "first_six_letter = string.ascii_uppercase[:6]\n",
    "decimal_number.append(first_six_letter) # append()\n",
    "\n",
    "hexadecimal = decimal_number[:]\n",
    "\n",
    "hexadecimal"
   ]
  },
  {
   "cell_type": "markdown",
   "id": "b6ed017b",
   "metadata": {},
   "source": [
    "# Tuples()"
   ]
  },
  {
   "cell_type": "code",
   "execution_count": 13,
   "id": "f95a306b",
   "metadata": {},
   "outputs": [
    {
     "data": {
      "text/plain": [
       "(('0x0', '0x2', '0xF'), (0, 2, 9), 'Tuple is immutable.')"
      ]
     },
     "execution_count": 13,
     "metadata": {},
     "output_type": "execute_result"
    }
   ],
   "source": [
    "hexadecimal = ('0x0', '0x2', '0xF')\n",
    "decimal = (0, 2, 9)\n",
    "\n",
    "p_note = \"Tuple is immutable.\"\n",
    "try:\n",
    "    hexadecimal[0, 1, 2] = decimal\n",
    "except TypeError:\n",
    "    p_note\n",
    "    \n",
    "hexadecimal, decimal, p_note"
   ]
  },
  {
   "cell_type": "markdown",
   "id": "56f76da7",
   "metadata": {},
   "source": [
    "# Dictionaries{}"
   ]
  },
  {
   "cell_type": "code",
   "execution_count": 14,
   "id": "1871db84",
   "metadata": {},
   "outputs": [
    {
     "data": {
      "text/plain": [
       "{}"
      ]
     },
     "execution_count": 14,
     "metadata": {},
     "output_type": "execute_result"
    }
   ],
   "source": [
    "empty_dict = {}\n",
    "empty_dict"
   ]
  },
  {
   "cell_type": "code",
   "execution_count": 15,
   "id": "10257ae1",
   "metadata": {},
   "outputs": [
    {
     "name": "stdout",
     "output_type": "stream",
     "text": [
      "0 = Email is not in dictionary\n",
      "1 = dict_keys(['name', 'age', 'email', 'password'])\n",
      "2 = dict_values(['Gastone', [97], ['gastone@email.com'], 'sha256'])\n",
      "3 = dict_items([('name', 'Gastone'), ('age', [97]), ('email', ['gastone@email.com']), ('password', 'sha256')])\n"
     ]
    }
   ],
   "source": [
    "name = (\"Gastone\") # key => value\n",
    "age = [97]\n",
    "email = [\"gastone@email.com\"]\n",
    "password = (\"sha256\")\n",
    "\n",
    "user = {\n",
    "    \"name\" : name,\n",
    "    \"age\" : age,\n",
    "    \"email\" : email,\n",
    "    \"password\" : password \n",
    "\n",
    "}\n",
    "user_keys = user.keys()\n",
    "user_values = user.values()\n",
    "user_items = user.items() # All key => value\n",
    "\n",
    "p_error = \"Email is not in dictionary\"\n",
    "try:\n",
    "    \"paperino@email.com\" in user # false\n",
    "except TypeError:\n",
    "       p_error\n",
    "\n",
    "result = [p_error, user_keys, user_values, user_items]\n",
    "\n",
    "for index, item in enumerate(result):\n",
    "    print(index,\"=\", item)"
   ]
  },
  {
   "cell_type": "markdown",
   "id": "0514829f",
   "metadata": {},
   "source": [
    "## defaultdict()"
   ]
  },
  {
   "cell_type": "code",
   "execution_count": 16,
   "id": "4056ac3f",
   "metadata": {},
   "outputs": [
    {
     "data": {
      "text/plain": [
       "defaultdict(dict, {})"
      ]
     },
     "execution_count": 16,
     "metadata": {},
     "output_type": "execute_result"
    }
   ],
   "source": [
    "from collections import defaultdict\n",
    "\n",
    "d_dict = defaultdict(dict)  # produces an empty dict\n",
    "d_dict"
   ]
  },
  {
   "cell_type": "code",
   "execution_count": 17,
   "id": "94efeee3",
   "metadata": {},
   "outputs": [
    {
     "data": {
      "text/plain": [
       "defaultdict(dict, {'Author Name': {'Book': 'Python Programming Language'}})"
      ]
     },
     "execution_count": 17,
     "metadata": {},
     "output_type": "execute_result"
    }
   ],
   "source": [
    "from collections import defaultdict\n",
    "\n",
    "d_dict[\"Author Name\"][\"Book\"] = \"Python Programming Language\"\n",
    "d_dict"
   ]
  },
  {
   "cell_type": "markdown",
   "id": "1630f5e2",
   "metadata": {},
   "source": [
    "### Counting "
   ]
  },
  {
   "cell_type": "code",
   "execution_count": 18,
   "id": "8d0c773f",
   "metadata": {},
   "outputs": [
    {
     "data": {
      "text/plain": [
       "defaultdict(int,\n",
       "            {'Python': 3,\n",
       "             'Javascript': 1,\n",
       "             'C': 1,\n",
       "             'Java': 1,\n",
       "             'Php & Mysql': 1})"
      ]
     },
     "execution_count": 18,
     "metadata": {},
     "output_type": "execute_result"
    }
   ],
   "source": [
    "from collections import defaultdict\n",
    "\n",
    "item = {\n",
    "    ('Python', 'Machine Learning with Scikit-learn and Tensorflow'),\n",
    "    ( 'Python', 'Data Analysis', 'Data Science', 'Scikit-learn'),\n",
    "    ('Java', 'Complete Reference 8'),\n",
    "    ('Javascript', 'The Definitive Guide'),\n",
    "    ('Python', 'Django 4 By Example'),\n",
    "    ('C', 'Programmazione Scientifica'),\n",
    "    ('Php & Mysql', '24 Hour Trainer')\n",
    "}\n",
    "\n",
    "k_counts = defaultdict(int) \n",
    "for key, *value in item:\n",
    "        k_counts[key] += 1 # Count all key words\n",
    "        \n",
    "k_counts"
   ]
  },
  {
   "cell_type": "markdown",
   "id": "74c6a1d1",
   "metadata": {},
   "source": [
    "### Exercises of Nestor Gutierrez (March, 2023)"
   ]
  }
 ],
 "metadata": {
  "kernelspec": {
   "display_name": "Python 3 (ipykernel)",
   "language": "python",
   "name": "python3"
  },
  "language_info": {
   "codemirror_mode": {
    "name": "ipython",
    "version": 3
   },
   "file_extension": ".py",
   "mimetype": "text/x-python",
   "name": "python",
   "nbconvert_exporter": "python",
   "pygments_lexer": "ipython3",
   "version": "3.10.6"
  }
 },
 "nbformat": 4,
 "nbformat_minor": 5
}
